{
 "cells": [
  {
   "cell_type": "markdown",
   "metadata": {},
   "source": [
    "<img src=\"img/x00001.png\">"
   ]
  },
  {
   "cell_type": "markdown",
   "metadata": {},
   "source": [
    "<li>วีธีดึง รูปภาพกับ Model จาก S3 ออกมาใช้</li>"
   ]
  },
  {
   "cell_type": "markdown",
   "metadata": {},
   "source": [
    "<img src=\"img/x00002.jpg\">"
   ]
  },
  {
   "cell_type": "markdown",
   "metadata": {},
   "source": [
    "<img src=\"img/x00003.png\">"
   ]
  },
  {
   "cell_type": "markdown",
   "metadata": {},
   "source": [
    "<li>List all items in Bucket</li>"
   ]
  },
  {
   "cell_type": "markdown",
   "metadata": {},
   "source": [
    "{\n",
    "    'Key': 'ComfyUI_00016_.png', \n",
    "    'LastModified': datetime.datetime(2024, 11, 21, 2, 23, 16, tzinfo=tzutc()), 'ETag': '\"f86941f0f119553a9ce34735d158fa9c\"', \n",
    "    'Size': 1146523, \n",
    "    'StorageClass': 'STANDARD'\n",
    "}\n",
    "ComfyUI_00016_.png"
   ]
  },
  {
   "cell_type": "markdown",
   "metadata": {},
   "source": [
    "<h3>Keys</h3>\n",
    "<li>Name of the objects in the S3 Bucket</li>\n",
    "<li><code>It's must be unique within the bucket</code></li>\n",
    "<li><code>Use this Key to reference the file when performing operations like downloading or deleting</code></li>\n",
    "\n",
    "<h3>LastModified</h3>\n",
    "<li>Last modify format : YYYY-MM-DD HH:MM:SS</li>\n",
    "<li>Help track when the file was last update</li>\n",
    "\n",
    "<h3>ETag</h3>\n",
    "<li><code>unique identifier specific version of the file</code></li>\n",
    "<li>It's MD5 hash</li>\n",
    "<li><code>Use this to verify data integrity (e.g. compare the ETag before and after downloading)</code></li>\n",
    "\n",
    "<h3>Size</h3>\n",
    "<li>bytes</li>\n",
    "<li>use for checking file size b4 download for monitoring</li>\n",
    "\n",
    "<h3>StorageClass</h3>\n",
    "<li>Indicates the cost and access speed for the object</li>"
   ]
  },
  {
   "cell_type": "markdown",
   "metadata": {},
   "source": []
  },
  {
   "cell_type": "markdown",
   "metadata": {},
   "source": []
  },
  {
   "cell_type": "markdown",
   "metadata": {},
   "source": []
  }
 ],
 "metadata": {
  "language_info": {
   "name": "python"
  }
 },
 "nbformat": 4,
 "nbformat_minor": 2
}
